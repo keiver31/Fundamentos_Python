{
  "cells": [
    {
      "cell_type": "markdown",
      "metadata": {
        "id": "tfrteSLyUFsq"
      },
      "source": [
        "# Práctica de la librería Pandas\n",
        "\n",
        "En este notebook, se desarrollarán una serie de tareas utilizando la librería Pandas (el \"Excel\" de Python).\n",
        "\n",
        "Se proponen y documentan posibles formas de resolver los ejercicios, pero pueden existir varias formas de lograr los mismos resultados.\n",
        "\n",
        "Siempre es una buena idea verificar la [Documentación Oficial de Pandas](https://pandas.pydata.org/pandas-docs/stable/), donde es posible encontrar todo tipo de información referida a esta librería. Y si te quedas trabado, busca en Google \"como hacer [algo] con Pandas\". Hay enormes probabilidades de que esa pregunta ya haya sido respondida!"
      ]
    },
    {
      "cell_type": "code",
      "execution_count": 1,
      "metadata": {
        "id": "kjRlSpvkUFst"
      },
      "outputs": [],
      "source": [
        "# Importamos Pandas\n",
        "import pandas as pd"
      ]
    },
    {
      "cell_type": "code",
      "execution_count": 4,
      "metadata": {
        "id": "CpZNSwfr9nhF"
      },
      "outputs": [
        {
          "data": {
            "text/plain": [
              "47.625"
            ]
          },
          "execution_count": 4,
          "metadata": {},
          "output_type": "execute_result"
        }
      ],
      "source": [
        "# Creamos una serie de números y hallamos su media\n",
        "numeros=pd.Series([1,2,3,4,5,67,235,64])\n",
        "numeros.mean()"
      ]
    },
    {
      "cell_type": "code",
      "execution_count": 5,
      "metadata": {
        "id": "As2Q9Ffd9wLD"
      },
      "outputs": [
        {
          "data": {
            "text/plain": [
              "381"
            ]
          },
          "execution_count": 5,
          "metadata": {},
          "output_type": "execute_result"
        }
      ],
      "source": [
        "# Hallamos la suma de dichos números\n",
        "numeros.sum()"
      ]
    },
    {
      "cell_type": "code",
      "execution_count": 6,
      "metadata": {
        "id": "BOZmy50cUFsu"
      },
      "outputs": [],
      "source": [
        "# Creamos una SERIE de tres colores diferentes\n",
        "colores=pd.Series(['rojo','amarillo','verde'])"
      ]
    },
    {
      "cell_type": "code",
      "execution_count": 7,
      "metadata": {
        "id": "tLU8EGy7UFsu"
      },
      "outputs": [
        {
          "data": {
            "text/plain": [
              "0        rojo\n",
              "1    amarillo\n",
              "2       verde\n",
              "dtype: object"
            ]
          },
          "execution_count": 7,
          "metadata": {},
          "output_type": "execute_result"
        }
      ],
      "source": [
        "# Visualizamos la serie creada\n",
        "colores"
      ]
    },
    {
      "cell_type": "code",
      "execution_count": 8,
      "metadata": {
        "id": "nKPbTddDUFsv"
      },
      "outputs": [
        {
          "data": {
            "text/plain": [
              "0      sedan\n",
              "1    Pick-Up\n",
              "2        SUV\n",
              "dtype: object"
            ]
          },
          "execution_count": 8,
          "metadata": {},
          "output_type": "execute_result"
        }
      ],
      "source": [
        "# Creamos una serie con tipos de autos, y la visualizamos\n",
        "tipos_autos=pd.Series(['sedan','Pick-Up','SUV'])\n",
        "tipos_autos"
      ]
    },
    {
      "cell_type": "code",
      "execution_count": 11,
      "metadata": {
        "id": "j_J8ibN5UFsv"
      },
      "outputs": [
        {
          "data": {
            "text/html": [
              "<div>\n",
              "<style scoped>\n",
              "    .dataframe tbody tr th:only-of-type {\n",
              "        vertical-align: middle;\n",
              "    }\n",
              "\n",
              "    .dataframe tbody tr th {\n",
              "        vertical-align: top;\n",
              "    }\n",
              "\n",
              "    .dataframe thead th {\n",
              "        text-align: right;\n",
              "    }\n",
              "</style>\n",
              "<table border=\"1\" class=\"dataframe\">\n",
              "  <thead>\n",
              "    <tr style=\"text-align: right;\">\n",
              "      <th></th>\n",
              "      <th>Tipo de Auto</th>\n",
              "      <th>Color</th>\n",
              "    </tr>\n",
              "  </thead>\n",
              "  <tbody>\n",
              "    <tr>\n",
              "      <th>0</th>\n",
              "      <td>sedan</td>\n",
              "      <td>rojo</td>\n",
              "    </tr>\n",
              "    <tr>\n",
              "      <th>1</th>\n",
              "      <td>Pick-Up</td>\n",
              "      <td>amarillo</td>\n",
              "    </tr>\n",
              "    <tr>\n",
              "      <th>2</th>\n",
              "      <td>SUV</td>\n",
              "      <td>verde</td>\n",
              "    </tr>\n",
              "  </tbody>\n",
              "</table>\n",
              "</div>"
            ],
            "text/plain": [
              "  Tipo de Auto     Color\n",
              "0        sedan      rojo\n",
              "1      Pick-Up  amarillo\n",
              "2          SUV     verde"
            ]
          },
          "execution_count": 11,
          "metadata": {},
          "output_type": "execute_result"
        }
      ],
      "source": [
        "# Combinamos las series de tipos de autos y colores en un DATAFRAME\n",
        "tabla_autos=pd.DataFrame({'Tipo de Auto':tipos_autos,\"Color\":colores})\n",
        "tabla_autos"
      ]
    },
    {
      "cell_type": "code",
      "execution_count": 12,
      "metadata": {
        "id": "pbZHZy0ZN2LB"
      },
      "outputs": [
        {
          "ename": "ModuleNotFoundError",
          "evalue": "No module named 'google'",
          "output_type": "error",
          "traceback": [
            "\u001b[1;31m---------------------------------------------------------------------------\u001b[0m",
            "\u001b[1;31mModuleNotFoundError\u001b[0m                       Traceback (most recent call last)",
            "\u001b[1;32mc:\\Users\\keiver.rincon\\OneDrive - CADENA SA\\AXCES\\Cursos\\Curso_Python\\Modulo_15\\Python_TOTAL_Pandas.ipynb Cell 9\u001b[0m line \u001b[0;36m2\n\u001b[0;32m      <a href='vscode-notebook-cell:/c%3A/Users/keiver.rincon/OneDrive%20-%20CADENA%20SA/AXCES/Cursos/Curso_Python/Modulo_15/Python_TOTAL_Pandas.ipynb#X11sZmlsZQ%3D%3D?line=0'>1</a>\u001b[0m \u001b[39m# Conectamos el cuaderno actual con nuestro Drive\u001b[39;00m\n\u001b[1;32m----> <a href='vscode-notebook-cell:/c%3A/Users/keiver.rincon/OneDrive%20-%20CADENA%20SA/AXCES/Cursos/Curso_Python/Modulo_15/Python_TOTAL_Pandas.ipynb#X11sZmlsZQ%3D%3D?line=1'>2</a>\u001b[0m \u001b[39mfrom\u001b[39;00m \u001b[39mgoogle\u001b[39;00m\u001b[39m.\u001b[39;00m\u001b[39mcolab\u001b[39;00m \u001b[39mimport\u001b[39;00m drive\n\u001b[0;32m      <a href='vscode-notebook-cell:/c%3A/Users/keiver.rincon/OneDrive%20-%20CADENA%20SA/AXCES/Cursos/Curso_Python/Modulo_15/Python_TOTAL_Pandas.ipynb#X11sZmlsZQ%3D%3D?line=2'>3</a>\u001b[0m drive\u001b[39m.\u001b[39mmount(\u001b[39m'\u001b[39m\u001b[39mcontent/drive\u001b[39m\u001b[39m'\u001b[39m)\n",
            "\u001b[1;31mModuleNotFoundError\u001b[0m: No module named 'google'"
          ]
        }
      ],
      "source": [
        "# Conectamos el cuaderno actual con nuestro Drive\n",
        "from google.colab import drive\n",
        "drive.mount('content/drive')"
      ]
    },
    {
      "cell_type": "code",
      "execution_count": null,
      "metadata": {
        "id": "MdPCrnQDApcr"
      },
      "outputs": [],
      "source": [
        "# Importar \"ventas-autos.csv\" y convertirlo en un nuevo DATAFRAME"
      ]
    },
    {
      "cell_type": "markdown",
      "metadata": {
        "id": "shwBrNI3UFsw"
      },
      "source": [
        "Este será nuestro \"Dataframe de Flujo Vehicular\""
      ]
    },
    {
      "cell_type": "code",
      "execution_count": null,
      "metadata": {
        "id": "7vyLpU55UFsw"
      },
      "outputs": [],
      "source": [
        "# Exportar el Dataframe como un archivo CSV a mi carpeta \"/content/drive/MyDrive/Colab Notebooks/pruebas/\""
      ]
    },
    {
      "cell_type": "code",
      "execution_count": null,
      "metadata": {
        "id": "6EHRZtORUFsx"
      },
      "outputs": [],
      "source": [
        "# Analicemos los tipos de datos disponibles en el dataset de ventas autos"
      ]
    },
    {
      "cell_type": "code",
      "execution_count": null,
      "metadata": {
        "id": "tI87x3aFUFsx"
      },
      "outputs": [],
      "source": [
        "# Apliquemos estadística descriptiva (cantidad de valores, media, desviación estándar, valores mínimos y máximos, cuartiles) al dataset"
      ]
    },
    {
      "cell_type": "code",
      "execution_count": null,
      "metadata": {
        "id": "2ogCTGXAUFsx"
      },
      "outputs": [],
      "source": [
        "# Obtenemos información del dataset utilizando info()"
      ]
    },
    {
      "cell_type": "code",
      "execution_count": null,
      "metadata": {
        "id": "vrXn7t1NUFsy"
      },
      "outputs": [],
      "source": [
        "# Listamos los nombres de las columnas de nuestro dataset"
      ]
    },
    {
      "cell_type": "code",
      "execution_count": null,
      "metadata": {
        "id": "HbvAvOeQUFsz"
      },
      "outputs": [],
      "source": [
        "# Averiguamos el \"largo\" de nuestro dataset"
      ]
    },
    {
      "cell_type": "code",
      "execution_count": null,
      "metadata": {
        "id": "B0evbz8KUFsz"
      },
      "outputs": [],
      "source": [
        "# Mostramos las primeras 5 filas del dataset"
      ]
    },
    {
      "cell_type": "code",
      "execution_count": null,
      "metadata": {
        "id": "2T_FVnZ1UFsz"
      },
      "outputs": [],
      "source": [
        "# Mostramos las primeras 7 filas del dataset"
      ]
    },
    {
      "cell_type": "code",
      "execution_count": null,
      "metadata": {
        "id": "MxuHpE_6UFsz"
      },
      "outputs": [],
      "source": [
        "# Mostramos las últimas 5 filas del dataset"
      ]
    },
    {
      "cell_type": "code",
      "execution_count": null,
      "metadata": {
        "id": "SmOFBACDUFs0"
      },
      "outputs": [],
      "source": [
        "# Utilizamos .loc para seleccionar la fila de índice 3 del DataFrame"
      ]
    },
    {
      "cell_type": "code",
      "execution_count": null,
      "metadata": {
        "id": "IQtBd_WzUFs0"
      },
      "outputs": [],
      "source": [
        "# Utilizamos .iloc para seleccionar las filas 3, 7 y 9"
      ]
    },
    {
      "cell_type": "markdown",
      "metadata": {
        "id": "paiTpD-7UFs0"
      },
      "source": [
        "En la documentación podrás observar la diferencia entre el funcionamiento de [.loc](https://pandas.pydata.org/pandas-docs/stable/reference/api/pandas.DataFrame.loc.html) e [.iloc](https://pandas.pydata.org/pandas-docs/stable/reference/api/pandas.DataFrame.iloc.html)."
      ]
    },
    {
      "cell_type": "code",
      "execution_count": null,
      "metadata": {
        "id": "NjGaSi8MUFs1"
      },
      "outputs": [],
      "source": [
        "# Seleccionar la columna \"Kilometraje\""
      ]
    },
    {
      "cell_type": "code",
      "execution_count": null,
      "metadata": {
        "id": "HheZGw_WUFs1"
      },
      "outputs": [],
      "source": [
        "# Encontrar el valor medio de la columnas \"Kilometraje\""
      ]
    },
    {
      "cell_type": "code",
      "execution_count": null,
      "metadata": {
        "id": "8HoW_HN7UFs1"
      },
      "outputs": [],
      "source": [
        "# Seleccionar aquellas columnas que tengan valores superiores a 100,000 kilómetros en la columna Kilometraje"
      ]
    },
    {
      "cell_type": "code",
      "execution_count": null,
      "metadata": {
        "id": "d5feBHidUFs2"
      },
      "outputs": [],
      "source": [
        "# Creamos una tabla cruzada de doble entrada entre Fabricante y cantidad de puertas"
      ]
    },
    {
      "cell_type": "code",
      "execution_count": null,
      "metadata": {
        "id": "-93nEBP4UFs2"
      },
      "outputs": [],
      "source": [
        "# Agrupamos las columnas por fabricante y buscandos el valor medio de las columnas numéricas"
      ]
    },
    {
      "cell_type": "code",
      "execution_count": null,
      "metadata": {
        "id": "uPNNZb1vUFs2"
      },
      "outputs": [],
      "source": [
        "# Importamos Matplotlib y creamos un gráfico con los valores de la columna Kilometraje"
      ]
    },
    {
      "cell_type": "code",
      "execution_count": null,
      "metadata": {
        "id": "Ky0MrZ1nUFs2"
      },
      "outputs": [],
      "source": [
        "# Puede que un gráfico más apropiado en este caso sea un histograma?"
      ]
    },
    {
      "cell_type": "code",
      "execution_count": null,
      "metadata": {
        "id": "t4Tsk1YcUFs3"
      },
      "outputs": [],
      "source": [
        "# Intentamos graficar la columna de precios"
      ]
    },
    {
      "cell_type": "markdown",
      "metadata": {
        "id": "324IZkxGUFs3"
      },
      "source": [
        "No funcionó, verdad? Alguna idea de por qué esto puede ocurrir?\n",
        "\n",
        "Una pista es buscar: \"cómo convertir strings de Pandas a números\"\n",
        "\n",
        "[Aqui hay un enlace a StackOverflow referido a este tema](https://stackoverflow.com/questions/44469313/price-column-object-to-int-in-pandas)."
      ]
    },
    {
      "cell_type": "code",
      "execution_count": null,
      "metadata": {
        "id": "Tk88hQNoUFs3"
      },
      "outputs": [],
      "source": [
        "# Elimina la puntuación de la columna de precios"
      ]
    }
  ],
  "metadata": {
    "colab": {
      "provenance": []
    },
    "kernelspec": {
      "display_name": "Python 3",
      "name": "python3"
    },
    "language_info": {
      "codemirror_mode": {
        "name": "ipython",
        "version": 3
      },
      "file_extension": ".py",
      "mimetype": "text/x-python",
      "name": "python",
      "nbconvert_exporter": "python",
      "pygments_lexer": "ipython3",
      "version": "3.10.0"
    }
  },
  "nbformat": 4,
  "nbformat_minor": 0
}
